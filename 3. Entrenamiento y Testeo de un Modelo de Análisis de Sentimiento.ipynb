{
  "nbformat": 4,
  "nbformat_minor": 0,
  "metadata": {
    "colab": {
      "provenance": []
    },
    "kernelspec": {
      "name": "python3",
      "display_name": "Python 3"
    },
    "language_info": {
      "name": "python"
    }
  },
  "cells": [
    {
      "cell_type": "markdown",
      "source": [
        "**1. Instalación y Carga de Librerías**"
      ],
      "metadata": {
        "id": "ijF9AKrksdqK"
      }
    },
    {
      "cell_type": "code",
      "execution_count": null,
      "metadata": {
        "colab": {
          "base_uri": "https://localhost:8080/"
        },
        "id": "UXGsahCXrxP5",
        "outputId": "80cad3c0-9a80-4a0f-8f9c-04c7200ec550"
      },
      "outputs": [
        {
          "output_type": "stream",
          "name": "stdout",
          "text": [
            "Requirement already satisfied: spacy in /usr/local/lib/python3.11/dist-packages (3.7.5)\n",
            "Requirement already satisfied: spacy-legacy<3.1.0,>=3.0.11 in /usr/local/lib/python3.11/dist-packages (from spacy) (3.0.12)\n",
            "Requirement already satisfied: spacy-loggers<2.0.0,>=1.0.0 in /usr/local/lib/python3.11/dist-packages (from spacy) (1.0.5)\n",
            "Requirement already satisfied: murmurhash<1.1.0,>=0.28.0 in /usr/local/lib/python3.11/dist-packages (from spacy) (1.0.12)\n",
            "Requirement already satisfied: cymem<2.1.0,>=2.0.2 in /usr/local/lib/python3.11/dist-packages (from spacy) (2.0.11)\n",
            "Requirement already satisfied: preshed<3.1.0,>=3.0.2 in /usr/local/lib/python3.11/dist-packages (from spacy) (3.0.9)\n",
            "Requirement already satisfied: thinc<8.3.0,>=8.2.2 in /usr/local/lib/python3.11/dist-packages (from spacy) (8.2.5)\n",
            "Requirement already satisfied: wasabi<1.2.0,>=0.9.1 in /usr/local/lib/python3.11/dist-packages (from spacy) (1.1.3)\n",
            "Requirement already satisfied: srsly<3.0.0,>=2.4.3 in /usr/local/lib/python3.11/dist-packages (from spacy) (2.5.1)\n",
            "Requirement already satisfied: catalogue<2.1.0,>=2.0.6 in /usr/local/lib/python3.11/dist-packages (from spacy) (2.0.10)\n",
            "Requirement already satisfied: weasel<0.5.0,>=0.1.0 in /usr/local/lib/python3.11/dist-packages (from spacy) (0.4.1)\n",
            "Requirement already satisfied: typer<1.0.0,>=0.3.0 in /usr/local/lib/python3.11/dist-packages (from spacy) (0.15.1)\n",
            "Requirement already satisfied: tqdm<5.0.0,>=4.38.0 in /usr/local/lib/python3.11/dist-packages (from spacy) (4.67.1)\n",
            "Requirement already satisfied: requests<3.0.0,>=2.13.0 in /usr/local/lib/python3.11/dist-packages (from spacy) (2.32.3)\n",
            "Requirement already satisfied: pydantic!=1.8,!=1.8.1,<3.0.0,>=1.7.4 in /usr/local/lib/python3.11/dist-packages (from spacy) (2.10.6)\n",
            "Requirement already satisfied: jinja2 in /usr/local/lib/python3.11/dist-packages (from spacy) (3.1.5)\n",
            "Requirement already satisfied: setuptools in /usr/local/lib/python3.11/dist-packages (from spacy) (75.1.0)\n",
            "Requirement already satisfied: packaging>=20.0 in /usr/local/lib/python3.11/dist-packages (from spacy) (24.2)\n",
            "Requirement already satisfied: langcodes<4.0.0,>=3.2.0 in /usr/local/lib/python3.11/dist-packages (from spacy) (3.5.0)\n",
            "Requirement already satisfied: numpy>=1.19.0 in /usr/local/lib/python3.11/dist-packages (from spacy) (1.26.4)\n",
            "Requirement already satisfied: language-data>=1.2 in /usr/local/lib/python3.11/dist-packages (from langcodes<4.0.0,>=3.2.0->spacy) (1.3.0)\n",
            "Requirement already satisfied: annotated-types>=0.6.0 in /usr/local/lib/python3.11/dist-packages (from pydantic!=1.8,!=1.8.1,<3.0.0,>=1.7.4->spacy) (0.7.0)\n",
            "Requirement already satisfied: pydantic-core==2.27.2 in /usr/local/lib/python3.11/dist-packages (from pydantic!=1.8,!=1.8.1,<3.0.0,>=1.7.4->spacy) (2.27.2)\n",
            "Requirement already satisfied: typing-extensions>=4.12.2 in /usr/local/lib/python3.11/dist-packages (from pydantic!=1.8,!=1.8.1,<3.0.0,>=1.7.4->spacy) (4.12.2)\n",
            "Requirement already satisfied: charset-normalizer<4,>=2 in /usr/local/lib/python3.11/dist-packages (from requests<3.0.0,>=2.13.0->spacy) (3.4.1)\n",
            "Requirement already satisfied: idna<4,>=2.5 in /usr/local/lib/python3.11/dist-packages (from requests<3.0.0,>=2.13.0->spacy) (3.10)\n",
            "Requirement already satisfied: urllib3<3,>=1.21.1 in /usr/local/lib/python3.11/dist-packages (from requests<3.0.0,>=2.13.0->spacy) (2.3.0)\n",
            "Requirement already satisfied: certifi>=2017.4.17 in /usr/local/lib/python3.11/dist-packages (from requests<3.0.0,>=2.13.0->spacy) (2025.1.31)\n",
            "Requirement already satisfied: blis<0.8.0,>=0.7.8 in /usr/local/lib/python3.11/dist-packages (from thinc<8.3.0,>=8.2.2->spacy) (0.7.11)\n",
            "Requirement already satisfied: confection<1.0.0,>=0.0.1 in /usr/local/lib/python3.11/dist-packages (from thinc<8.3.0,>=8.2.2->spacy) (0.1.5)\n",
            "Requirement already satisfied: click>=8.0.0 in /usr/local/lib/python3.11/dist-packages (from typer<1.0.0,>=0.3.0->spacy) (8.1.8)\n",
            "Requirement already satisfied: shellingham>=1.3.0 in /usr/local/lib/python3.11/dist-packages (from typer<1.0.0,>=0.3.0->spacy) (1.5.4)\n",
            "Requirement already satisfied: rich>=10.11.0 in /usr/local/lib/python3.11/dist-packages (from typer<1.0.0,>=0.3.0->spacy) (13.9.4)\n",
            "Requirement already satisfied: cloudpathlib<1.0.0,>=0.7.0 in /usr/local/lib/python3.11/dist-packages (from weasel<0.5.0,>=0.1.0->spacy) (0.20.0)\n",
            "Requirement already satisfied: smart-open<8.0.0,>=5.2.1 in /usr/local/lib/python3.11/dist-packages (from weasel<0.5.0,>=0.1.0->spacy) (7.1.0)\n",
            "Requirement already satisfied: MarkupSafe>=2.0 in /usr/local/lib/python3.11/dist-packages (from jinja2->spacy) (3.0.2)\n",
            "Requirement already satisfied: marisa-trie>=1.1.0 in /usr/local/lib/python3.11/dist-packages (from language-data>=1.2->langcodes<4.0.0,>=3.2.0->spacy) (1.2.1)\n",
            "Requirement already satisfied: markdown-it-py>=2.2.0 in /usr/local/lib/python3.11/dist-packages (from rich>=10.11.0->typer<1.0.0,>=0.3.0->spacy) (3.0.0)\n",
            "Requirement already satisfied: pygments<3.0.0,>=2.13.0 in /usr/local/lib/python3.11/dist-packages (from rich>=10.11.0->typer<1.0.0,>=0.3.0->spacy) (2.18.0)\n",
            "Requirement already satisfied: wrapt in /usr/local/lib/python3.11/dist-packages (from smart-open<8.0.0,>=5.2.1->weasel<0.5.0,>=0.1.0->spacy) (1.17.2)\n",
            "Requirement already satisfied: mdurl~=0.1 in /usr/local/lib/python3.11/dist-packages (from markdown-it-py>=2.2.0->rich>=10.11.0->typer<1.0.0,>=0.3.0->spacy) (0.1.2)\n",
            "Collecting en-core-web-sm==3.7.1\n",
            "  Downloading https://github.com/explosion/spacy-models/releases/download/en_core_web_sm-3.7.1/en_core_web_sm-3.7.1-py3-none-any.whl (12.8 MB)\n",
            "\u001b[2K     \u001b[90m━━━━━━━━━━━━━━━━━━━━━━━━━━━━━━━━━━━━━━━━\u001b[0m \u001b[32m12.8/12.8 MB\u001b[0m \u001b[31m46.8 MB/s\u001b[0m eta \u001b[36m0:00:00\u001b[0m\n",
            "\u001b[?25hRequirement already satisfied: spacy<3.8.0,>=3.7.2 in /usr/local/lib/python3.11/dist-packages (from en-core-web-sm==3.7.1) (3.7.5)\n",
            "Requirement already satisfied: spacy-legacy<3.1.0,>=3.0.11 in /usr/local/lib/python3.11/dist-packages (from spacy<3.8.0,>=3.7.2->en-core-web-sm==3.7.1) (3.0.12)\n",
            "Requirement already satisfied: spacy-loggers<2.0.0,>=1.0.0 in /usr/local/lib/python3.11/dist-packages (from spacy<3.8.0,>=3.7.2->en-core-web-sm==3.7.1) (1.0.5)\n",
            "Requirement already satisfied: murmurhash<1.1.0,>=0.28.0 in /usr/local/lib/python3.11/dist-packages (from spacy<3.8.0,>=3.7.2->en-core-web-sm==3.7.1) (1.0.12)\n",
            "Requirement already satisfied: cymem<2.1.0,>=2.0.2 in /usr/local/lib/python3.11/dist-packages (from spacy<3.8.0,>=3.7.2->en-core-web-sm==3.7.1) (2.0.11)\n",
            "Requirement already satisfied: preshed<3.1.0,>=3.0.2 in /usr/local/lib/python3.11/dist-packages (from spacy<3.8.0,>=3.7.2->en-core-web-sm==3.7.1) (3.0.9)\n",
            "Requirement already satisfied: thinc<8.3.0,>=8.2.2 in /usr/local/lib/python3.11/dist-packages (from spacy<3.8.0,>=3.7.2->en-core-web-sm==3.7.1) (8.2.5)\n",
            "Requirement already satisfied: wasabi<1.2.0,>=0.9.1 in /usr/local/lib/python3.11/dist-packages (from spacy<3.8.0,>=3.7.2->en-core-web-sm==3.7.1) (1.1.3)\n",
            "Requirement already satisfied: srsly<3.0.0,>=2.4.3 in /usr/local/lib/python3.11/dist-packages (from spacy<3.8.0,>=3.7.2->en-core-web-sm==3.7.1) (2.5.1)\n",
            "Requirement already satisfied: catalogue<2.1.0,>=2.0.6 in /usr/local/lib/python3.11/dist-packages (from spacy<3.8.0,>=3.7.2->en-core-web-sm==3.7.1) (2.0.10)\n",
            "Requirement already satisfied: weasel<0.5.0,>=0.1.0 in /usr/local/lib/python3.11/dist-packages (from spacy<3.8.0,>=3.7.2->en-core-web-sm==3.7.1) (0.4.1)\n",
            "Requirement already satisfied: typer<1.0.0,>=0.3.0 in /usr/local/lib/python3.11/dist-packages (from spacy<3.8.0,>=3.7.2->en-core-web-sm==3.7.1) (0.15.1)\n",
            "Requirement already satisfied: tqdm<5.0.0,>=4.38.0 in /usr/local/lib/python3.11/dist-packages (from spacy<3.8.0,>=3.7.2->en-core-web-sm==3.7.1) (4.67.1)\n",
            "Requirement already satisfied: requests<3.0.0,>=2.13.0 in /usr/local/lib/python3.11/dist-packages (from spacy<3.8.0,>=3.7.2->en-core-web-sm==3.7.1) (2.32.3)\n",
            "Requirement already satisfied: pydantic!=1.8,!=1.8.1,<3.0.0,>=1.7.4 in /usr/local/lib/python3.11/dist-packages (from spacy<3.8.0,>=3.7.2->en-core-web-sm==3.7.1) (2.10.6)\n",
            "Requirement already satisfied: jinja2 in /usr/local/lib/python3.11/dist-packages (from spacy<3.8.0,>=3.7.2->en-core-web-sm==3.7.1) (3.1.5)\n",
            "Requirement already satisfied: setuptools in /usr/local/lib/python3.11/dist-packages (from spacy<3.8.0,>=3.7.2->en-core-web-sm==3.7.1) (75.1.0)\n",
            "Requirement already satisfied: packaging>=20.0 in /usr/local/lib/python3.11/dist-packages (from spacy<3.8.0,>=3.7.2->en-core-web-sm==3.7.1) (24.2)\n",
            "Requirement already satisfied: langcodes<4.0.0,>=3.2.0 in /usr/local/lib/python3.11/dist-packages (from spacy<3.8.0,>=3.7.2->en-core-web-sm==3.7.1) (3.5.0)\n",
            "Requirement already satisfied: numpy>=1.19.0 in /usr/local/lib/python3.11/dist-packages (from spacy<3.8.0,>=3.7.2->en-core-web-sm==3.7.1) (1.26.4)\n",
            "Requirement already satisfied: language-data>=1.2 in /usr/local/lib/python3.11/dist-packages (from langcodes<4.0.0,>=3.2.0->spacy<3.8.0,>=3.7.2->en-core-web-sm==3.7.1) (1.3.0)\n",
            "Requirement already satisfied: annotated-types>=0.6.0 in /usr/local/lib/python3.11/dist-packages (from pydantic!=1.8,!=1.8.1,<3.0.0,>=1.7.4->spacy<3.8.0,>=3.7.2->en-core-web-sm==3.7.1) (0.7.0)\n",
            "Requirement already satisfied: pydantic-core==2.27.2 in /usr/local/lib/python3.11/dist-packages (from pydantic!=1.8,!=1.8.1,<3.0.0,>=1.7.4->spacy<3.8.0,>=3.7.2->en-core-web-sm==3.7.1) (2.27.2)\n",
            "Requirement already satisfied: typing-extensions>=4.12.2 in /usr/local/lib/python3.11/dist-packages (from pydantic!=1.8,!=1.8.1,<3.0.0,>=1.7.4->spacy<3.8.0,>=3.7.2->en-core-web-sm==3.7.1) (4.12.2)\n",
            "Requirement already satisfied: charset-normalizer<4,>=2 in /usr/local/lib/python3.11/dist-packages (from requests<3.0.0,>=2.13.0->spacy<3.8.0,>=3.7.2->en-core-web-sm==3.7.1) (3.4.1)\n",
            "Requirement already satisfied: idna<4,>=2.5 in /usr/local/lib/python3.11/dist-packages (from requests<3.0.0,>=2.13.0->spacy<3.8.0,>=3.7.2->en-core-web-sm==3.7.1) (3.10)\n",
            "Requirement already satisfied: urllib3<3,>=1.21.1 in /usr/local/lib/python3.11/dist-packages (from requests<3.0.0,>=2.13.0->spacy<3.8.0,>=3.7.2->en-core-web-sm==3.7.1) (2.3.0)\n",
            "Requirement already satisfied: certifi>=2017.4.17 in /usr/local/lib/python3.11/dist-packages (from requests<3.0.0,>=2.13.0->spacy<3.8.0,>=3.7.2->en-core-web-sm==3.7.1) (2025.1.31)\n",
            "Requirement already satisfied: blis<0.8.0,>=0.7.8 in /usr/local/lib/python3.11/dist-packages (from thinc<8.3.0,>=8.2.2->spacy<3.8.0,>=3.7.2->en-core-web-sm==3.7.1) (0.7.11)\n",
            "Requirement already satisfied: confection<1.0.0,>=0.0.1 in /usr/local/lib/python3.11/dist-packages (from thinc<8.3.0,>=8.2.2->spacy<3.8.0,>=3.7.2->en-core-web-sm==3.7.1) (0.1.5)\n",
            "Requirement already satisfied: click>=8.0.0 in /usr/local/lib/python3.11/dist-packages (from typer<1.0.0,>=0.3.0->spacy<3.8.0,>=3.7.2->en-core-web-sm==3.7.1) (8.1.8)\n",
            "Requirement already satisfied: shellingham>=1.3.0 in /usr/local/lib/python3.11/dist-packages (from typer<1.0.0,>=0.3.0->spacy<3.8.0,>=3.7.2->en-core-web-sm==3.7.1) (1.5.4)\n",
            "Requirement already satisfied: rich>=10.11.0 in /usr/local/lib/python3.11/dist-packages (from typer<1.0.0,>=0.3.0->spacy<3.8.0,>=3.7.2->en-core-web-sm==3.7.1) (13.9.4)\n",
            "Requirement already satisfied: cloudpathlib<1.0.0,>=0.7.0 in /usr/local/lib/python3.11/dist-packages (from weasel<0.5.0,>=0.1.0->spacy<3.8.0,>=3.7.2->en-core-web-sm==3.7.1) (0.20.0)\n",
            "Requirement already satisfied: smart-open<8.0.0,>=5.2.1 in /usr/local/lib/python3.11/dist-packages (from weasel<0.5.0,>=0.1.0->spacy<3.8.0,>=3.7.2->en-core-web-sm==3.7.1) (7.1.0)\n",
            "Requirement already satisfied: MarkupSafe>=2.0 in /usr/local/lib/python3.11/dist-packages (from jinja2->spacy<3.8.0,>=3.7.2->en-core-web-sm==3.7.1) (3.0.2)\n",
            "Requirement already satisfied: marisa-trie>=1.1.0 in /usr/local/lib/python3.11/dist-packages (from language-data>=1.2->langcodes<4.0.0,>=3.2.0->spacy<3.8.0,>=3.7.2->en-core-web-sm==3.7.1) (1.2.1)\n",
            "Requirement already satisfied: markdown-it-py>=2.2.0 in /usr/local/lib/python3.11/dist-packages (from rich>=10.11.0->typer<1.0.0,>=0.3.0->spacy<3.8.0,>=3.7.2->en-core-web-sm==3.7.1) (3.0.0)\n",
            "Requirement already satisfied: pygments<3.0.0,>=2.13.0 in /usr/local/lib/python3.11/dist-packages (from rich>=10.11.0->typer<1.0.0,>=0.3.0->spacy<3.8.0,>=3.7.2->en-core-web-sm==3.7.1) (2.18.0)\n",
            "Requirement already satisfied: wrapt in /usr/local/lib/python3.11/dist-packages (from smart-open<8.0.0,>=5.2.1->weasel<0.5.0,>=0.1.0->spacy<3.8.0,>=3.7.2->en-core-web-sm==3.7.1) (1.17.2)\n",
            "Requirement already satisfied: mdurl~=0.1 in /usr/local/lib/python3.11/dist-packages (from markdown-it-py>=2.2.0->rich>=10.11.0->typer<1.0.0,>=0.3.0->spacy<3.8.0,>=3.7.2->en-core-web-sm==3.7.1) (0.1.2)\n",
            "\u001b[38;5;2m✔ Download and installation successful\u001b[0m\n",
            "You can now load the package via spacy.load('en_core_web_sm')\n",
            "\u001b[38;5;3m⚠ Restart to reload dependencies\u001b[0m\n",
            "If you are in a Jupyter or Colab notebook, you may need to restart Python in\n",
            "order to load all the package's dependencies. You can do this by selecting the\n",
            "'Restart kernel' or 'Restart runtime' option.\n"
          ]
        }
      ],
      "source": [
        "# Instalar paquetes necesarios (si no están ya instalados)\n",
        "!pip install spacy\n",
        "\n",
        "# Descargar modelo de SpaCy en inglés (si no está disponible)\n",
        "!python -m spacy download en_core_web_sm\n",
        "\n",
        "# Importar librerías necesarias\n",
        "import pandas as pd\n",
        "import numpy as np\n",
        "import pickle\n",
        "import seaborn as sns\n",
        "import matplotlib.pyplot as plt\n",
        "import spacy\n",
        "from sklearn.model_selection import train_test_split\n",
        "from sklearn.feature_extraction.text import TfidfVectorizer\n",
        "from sklearn.linear_model import LogisticRegression\n",
        "from sklearn.ensemble import RandomForestClassifier\n",
        "from sklearn.metrics import classification_report, accuracy_score, confusion_matrix"
      ]
    },
    {
      "cell_type": "markdown",
      "source": [
        "# **Entrenamiento y Testeo de un Modelo de Análisis de Sentimiento**"
      ],
      "metadata": {
        "id": "rOjb4XyiuO_k"
      }
    },
    {
      "cell_type": "markdown",
      "source": [
        "**1. Preparar los datos**\n",
        "\n",
        "Cargar y dividir los datos: Vamos a dividir los datos preprocesados en entrenamiento (train) y test, asegurando que la proporción de clases se mantenga estable (estratificación)."
      ],
      "metadata": {
        "id": "MgGEZu2Jg2W4"
      }
    },
    {
      "cell_type": "code",
      "source": [
        "# Cargar el dataset preprocesado de la Etapa 2\n",
        "df = pd.read_csv(\"preprocessed_reviews2.csv\")\n",
        "\n",
        "# Verificar que los datos se cargaron correctamente\n",
        "print(\"Dataset cargado correctamente:\")\n",
        "print(df.info())\n",
        "\n",
        "# Eliminar valores nulos en 'clean_review'\n",
        "df = df.dropna(subset=['clean_review'])\n",
        "\n",
        "# Definir variables de entrada (X) y salida (y)\n",
        "X = df['clean_review']  # Texto limpio como entrada\n",
        "y = (df['overall'] >= 4).astype(int)  # 1 = positivo, 0 = negativo\n",
        "\n",
        "# Dividir en conjunto de entrenamiento y prueba (80% - 20%)\n",
        "X_train, X_test, y_train, y_test = train_test_split(X, y, test_size=0.2, stratify=y, random_state=42)\n"
      ],
      "metadata": {
        "colab": {
          "base_uri": "https://localhost:8080/"
        },
        "id": "jbNCS18whKuH",
        "outputId": "e9e957de-c08a-4a9e-8fbd-4ac1f6f24c83"
      },
      "execution_count": null,
      "outputs": [
        {
          "output_type": "stream",
          "name": "stdout",
          "text": [
            "Dataset cargado correctamente:\n",
            "<class 'pandas.core.frame.DataFrame'>\n",
            "RangeIndex: 9995 entries, 0 to 9994\n",
            "Data columns (total 3 columns):\n",
            " #   Column        Non-Null Count  Dtype  \n",
            "---  ------        --------------  -----  \n",
            " 0   reviewText    9995 non-null   object \n",
            " 1   overall       9995 non-null   float64\n",
            " 2   clean_review  9991 non-null   object \n",
            "dtypes: float64(1), object(2)\n",
            "memory usage: 234.4+ KB\n",
            "None\n"
          ]
        }
      ]
    },
    {
      "cell_type": "markdown",
      "source": [
        "**2. Codificación de textos con TF-IDF (Bag-of-Words)**\n",
        "\n",
        "En esta sección, convierte el texto preprocesado en una representación numérica utilizando TF-IDF\n",
        "\n",
        "Justificación de los parámetros del vectorizador\n",
        "\n",
        "max_features=5000 → Limitar el vocabulario a las 5000 palabras más frecuentes para reducir la dimensionalidad y mejorar la eficiencia.\n",
        "\n",
        "ngram_range=(1,2) → Incluir unigramas y bigramas para capturar mejor el contexto de las palabras.\n",
        "\n",
        "stop_words='english' → Eliminar palabras irrelevantes para reducir ruido en el modelo."
      ],
      "metadata": {
        "id": "dwt1REQm1X-d"
      }
    },
    {
      "cell_type": "code",
      "source": [
        "# Vectorización con TF-IDF\n",
        "vectorizer = TfidfVectorizer(max_features=5000, ngram_range=(1,2), stop_words='english')\n",
        "X_train_tfidf = vectorizer.fit_transform(X_train)\n",
        "X_test_tfidf = vectorizer.transform(X_test)\n",
        "\n",
        "# Guardar el vectorizador para uso futuro\n",
        "with open(\"tfidf_vectorizer.pkl\", \"wb\") as f:\n",
        "    pickle.dump(vectorizer, f)\n",
        "\n",
        "print(f\"Dimensión de la matriz TF-IDF: {X_train_tfidf.shape}\")"
      ],
      "metadata": {
        "id": "w1W7DtKyuIeU",
        "colab": {
          "base_uri": "https://localhost:8080/"
        },
        "outputId": "45a167b0-9108-4359-801e-52c7edf1ebbe"
      },
      "execution_count": null,
      "outputs": [
        {
          "output_type": "stream",
          "name": "stdout",
          "text": [
            "Dimensión de la matriz TF-IDF: (7992, 5000)\n"
          ]
        }
      ]
    },
    {
      "cell_type": "markdown",
      "source": [
        "**3. Entrenamiento de Modelos**\n",
        "\n",
        "Elegimos dos modelos diferentes:\n",
        "1. Regresión Logística\n",
        "\n",
        "2. Random Forest"
      ],
      "metadata": {
        "id": "skf7UCq11tiG"
      }
    },
    {
      "cell_type": "code",
      "source": [
        "# Modelo 1: Regresión Logística\n",
        "log_model = LogisticRegression(max_iter=500)\n",
        "log_model.fit(X_train_tfidf, y_train)\n",
        "\n",
        "# Modelo 2: Random Forest\n",
        "rf_model = RandomForestClassifier(n_estimators=100, random_state=42)\n",
        "rf_model.fit(X_train_tfidf, y_train)\n",
        "\n",
        "# Guardar los modelos entrenados\n",
        "with open(\"logistic_model.pkl\", \"wb\") as f:\n",
        "    pickle.dump(log_model, f)\n",
        "\n",
        "with open(\"random_forest_model.pkl\", \"wb\") as f:\n",
        "    pickle.dump(rf_model, f)\n",
        "\n",
        "print(\"Modelos entrenados y guardados: 'logistic_model.pkl' y 'random_forest_model.pkl'\")"
      ],
      "metadata": {
        "id": "6lKpTGkB18He",
        "colab": {
          "base_uri": "https://localhost:8080/"
        },
        "outputId": "6855d843-41ab-445c-85cd-17c2af2d87e2"
      },
      "execution_count": null,
      "outputs": [
        {
          "output_type": "stream",
          "name": "stdout",
          "text": [
            "Modelos entrenados y guardados: 'logistic_model.pkl' y 'random_forest_model.pkl'\n"
          ]
        }
      ]
    },
    {
      "cell_type": "markdown",
      "source": [
        "**4. Evaluación y comparación de los modelos**\n",
        "\n",
        "Ahora probamos los modelos en el conjunto de test."
      ],
      "metadata": {
        "id": "1HHmr-KE2TvV"
      }
    },
    {
      "cell_type": "code",
      "source": [
        "# Predicciones\n",
        "y_pred_log = log_model.predict(X_test_tfidf)\n",
        "y_pred_rf = rf_model.predict(X_test_tfidf)\n",
        "\n",
        "# Evaluación de Regresión Logística\n",
        "print(\"Evaluación de Regresión Logística:\\n\")\n",
        "print(classification_report(y_test, y_pred_log))\n",
        "\n",
        "# Evaluación de Random Forest\n",
        "print(\"Evaluación de Random Forest:\\n\")\n",
        "print(classification_report(y_test, y_pred_rf))\n",
        "\n",
        "# Matriz de Confusión para Regresión Logística\n",
        "plt.figure(figsize=(5, 4))\n",
        "sns.heatmap(confusion_matrix(y_test, y_pred_log), annot=True, fmt=\"d\", cmap=\"Blues\")\n",
        "plt.title(\"Matriz de Confusión - Regresión Logística\")\n",
        "plt.xlabel(\"Predicción\")\n",
        "plt.ylabel(\"Real\")\n",
        "plt.show()\n",
        "\n",
        "# Matriz de Confusión para Random Forest\n",
        "plt.figure(figsize=(5, 4))\n",
        "sns.heatmap(confusion_matrix(y_test, y_pred_rf), annot=True, fmt=\"d\", cmap=\"Greens\")\n",
        "plt.title(\"Matriz de Confusión - Random Forest\")\n",
        "plt.xlabel(\"Predicción\")\n",
        "plt.ylabel(\"Real\")\n",
        "plt.show()\n",
        "\n",
        "# Comparación de Precisión\n",
        "accuracy_log = accuracy_score(y_test, y_pred_log)\n",
        "accuracy_rf = accuracy_score(y_test, y_pred_rf)\n",
        "\n",
        "print(f\"Precisión de Regresión Logística: {accuracy_log:.4f}\")\n",
        "print(f\"Precisión de Random Forest: {accuracy_rf:.4f}\")\n",
        "\n"
      ],
      "metadata": {
        "id": "T-3WP85x2Yhi",
        "colab": {
          "base_uri": "https://localhost:8080/",
          "height": 1000
        },
        "outputId": "9d6abb77-def1-44eb-b611-857d79a07e22"
      },
      "execution_count": null,
      "outputs": [
        {
          "output_type": "stream",
          "name": "stdout",
          "text": [
            "Evaluación de Regresión Logística:\n",
            "\n",
            "              precision    recall  f1-score   support\n",
            "\n",
            "           0       0.91      0.15      0.25       278\n",
            "           1       0.88      1.00      0.93      1721\n",
            "\n",
            "    accuracy                           0.88      1999\n",
            "   macro avg       0.89      0.57      0.59      1999\n",
            "weighted avg       0.88      0.88      0.84      1999\n",
            "\n",
            "Evaluación de Random Forest:\n",
            "\n",
            "              precision    recall  f1-score   support\n",
            "\n",
            "           0       0.71      0.13      0.22       278\n",
            "           1       0.88      0.99      0.93      1721\n",
            "\n",
            "    accuracy                           0.87      1999\n",
            "   macro avg       0.79      0.56      0.57      1999\n",
            "weighted avg       0.85      0.87      0.83      1999\n",
            "\n"
          ]
        },
        {
          "output_type": "display_data",
          "data": {
            "text/plain": [
              "<Figure size 500x400 with 2 Axes>"
            ],
            "image/png": "[encoded data removed]"
          },
          "metadata": {}
        },
        {
          "output_type": "display_data",
          "data": {
            "text/plain": [
              "<Figure size 500x400 with 2 Axes>"
            ],
            "image/png": "[encoded data removed]"
          },
          "metadata": {}
        },
        {
          "output_type": "stream",
          "name": "stdout",
          "text": [
            "Precisión de Regresión Logística: 0.8794\n",
            "Precisión de Random Forest: 0.8714\n"
          ]
        }
      ]
    },
    {
      "cell_type": "markdown",
      "source": [
        "Comparación de Modelos: Regresión Logística vs Random Forest\n",
        "Ambos modelos fueron evaluados en términos de precisión, recall y F1-score, con resultados distintos para las clases positiva (1) y negativa (0).\n",
        "\n",
        "**Regresión Logística**\n",
        "Precisión global (Accuracy): 88%\n",
        "F1-score general: 0.88\n",
        "\n",
        "Clase 1 (Reseñas Positivas)\n",
        "\n",
        "Precision: 0.88 De todas las reseñas que predijo como positivas, el 88% lo eran realmente.\n",
        "\n",
        "Recall: 1.00 Capturó el 100% de las reseñas positivas.\n",
        "\n",
        "F1-score: 0.93 Buen equilibrio entre precisión y recall.\n",
        "\n",
        "Clase 0 (Reseñas Negativas)\n",
        "\n",
        "Precision: 0.91 El 91% de las predicciones negativas fueron correctas.\n",
        "\n",
        "Recall: 0.15 Solo detectó correctamente el 15% de las reseñas negativas, ignorando muchas.\n",
        "\n",
        "Conclusión: El modelo tiene un sesgo claro hacia la clase positiva (1), detectándola con mucha precisión pero fallando en capturar las reseñas negativas (0). Esto sugiere un problema de desbalanceo de clases, donde el modelo está optimizado para las reseñas positivas.\n",
        "\n",
        "**Random Forest**\n",
        "Precisión global (Accuracy): 87%\n",
        "F1-score general: 0.83\n",
        "\n",
        "Clase 1 (Reseñas Positivas)\n",
        "\n",
        "Precision: 0.88 Igual que la regresión logística.\n",
        "Recall: 0.99 Casi todas las reseñas positivas fueron detectadas correctamente.\n",
        "F1-score: 0.93 Muy similar al modelo de regresión logística.\n",
        "Clase 0 (Reseñas Negativas)\n",
        "\n",
        "Precision: 0.71 Peor que la regresión logística, ya que más reseñas falsamente negativas fueron clasificadas erróneamente.\n",
        "Recall: 0.13 Muy bajo, solo detectó correctamente el 13% de las reseñas negativas.\n",
        "\n",
        "Conclusión: Random Forest no mejora la detección de reseñas negativas, y sufre el mismo problema de sesgo hacia las reseñas positivas. Sin embargo, su precisión general es similar a la regresión logística.\n",
        "\n",
        "Conclusión General: Ambos modelos están sesgados hacia la clase positiva (1) y apenas detectan la clase negativa (0).\n",
        "Regresión Logística obtiene un mejor balance general porque tiene mejor precisión en la clase negativa.\n",
        "Random Forest no aporta mejoras significativas y tiene incluso peor recall en la clase negativa.\n",
        "\n",
        "Posibles soluciones: Resolver un problema de desbalanceo de clases, voy a aplicar undersampling a ver si consigo mejorar los resultados.\n",
        "\n",
        "Creo un nuevo notebook 3.1 Entrenamiento y Testeo de un Modelo de Análisis de Sentimiento con Undersampling para evaluar resultados\n",
        "\n",
        "\n",
        "\n",
        "\n",
        "\n",
        "\n",
        "\n"
      ],
      "metadata": {
        "id": "oQs6I2qU9ZHv"
      }
    }
  ]
}