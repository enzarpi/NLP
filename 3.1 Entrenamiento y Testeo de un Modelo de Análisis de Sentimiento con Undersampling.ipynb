{
  "nbformat": 4,
  "nbformat_minor": 0,
  "metadata": {
    "colab": {
      "provenance": []
    },
    "kernelspec": {
      "name": "python3",
      "display_name": "Python 3"
    },
    "language_info": {
      "name": "python"
    }
  },
  "cells": [
    {
      "cell_type": "markdown",
      "source": [
        "**1. Instalación y Carga de Librerías**"
      ],
      "metadata": {
        "id": "kFewwqzyKtVa"
      }
    },
    {
      "cell_type": "code",
      "execution_count": 6,
      "metadata": {
        "id": "to99LY9-HOzn"
      },
      "outputs": [],
      "source": [
        "# Importar librerías necesarias\n",
        "import pandas as pd\n",
        "import numpy as np\n",
        "import pickle\n",
        "import seaborn as sns\n",
        "import matplotlib.pyplot as plt\n",
        "from sklearn.utils import resample\n",
        "from sklearn.model_selection import train_test_split\n",
        "from sklearn.feature_extraction.text import TfidfVectorizer\n",
        "from sklearn.linear_model import LogisticRegression\n",
        "from sklearn.ensemble import RandomForestClassifier\n",
        "from sklearn.metrics import classification_report, accuracy_score, confusion_matrix"
      ]
    },
    {
      "cell_type": "markdown",
      "source": [
        "# **Entrenamiento y Testeo de un Modelo de Análisis de Sentimiento**"
      ],
      "metadata": {
        "id": "8BW4zlR4K03K"
      }
    },
    {
      "cell_type": "markdown",
      "source": [
        "**1. Preparar los datos**\n",
        "\n",
        "Cargar y dividir los datos: Vamos a dividir los datos preprocesados en entrenamiento (train) y test, aplicando undersampling a la clase mayoritaria"
      ],
      "metadata": {
        "id": "MKYV32xbLDyb"
      }
    },
    {
      "cell_type": "code",
      "source": [
        "# Cargar el dataset preprocesado de la Etapa 2\n",
        "df = pd.read_csv(\"preprocessed_reviews2.csv\")\n",
        "\n",
        "# Verificar la distribución de clases antes del balanceo\n",
        "print(\"Distribución de clases antes del undersampling:\")\n",
        "print(df['overall'].value_counts())\n",
        "\n",
        "# Convertir la variable objetivo a binaria (1 = positivo, 0 = negativo)\n",
        "df['sentiment'] = (df['overall'] >= 4).astype(int)\n",
        "\n",
        "# Separar clases mayoritaria y minoritaria\n",
        "df_majority = df[df['sentiment'] == 1]  # Positivas\n",
        "df_minority = df[df['sentiment'] == 0]  # Negativas\n",
        "\n",
        "# Aplicar undersampling a la clase mayoritaria\n",
        "df_majority_downsampled = resample(df_majority,\n",
        "                                   replace=False,  # No reemplazar, solo reducir\n",
        "                                   n_samples=len(df_minority),  # Igualar al número de negativos\n",
        "                                   random_state=42)\n",
        "\n",
        "# Combinar el dataset balanceado\n",
        "df_balanced = pd.concat([df_majority_downsampled, df_minority])\n",
        "\n",
        "# Verificar la distribución después del balanceo\n",
        "print(\"Distribución de clases después del undersampling:\")\n",
        "print(df_balanced['sentiment'].value_counts())\n",
        "\n",
        "# Definir variables de entrada (X) y salida (y)\n",
        "X = df_balanced['clean_review']  # Texto limpio como entrada\n",
        "y = df_balanced['sentiment']     # Sentimiento como variable objetivo\n",
        "\n",
        "# Dividir en conjunto de entrenamiento y prueba (80% - 20%)\n",
        "X_train, X_test, y_train, y_test = train_test_split(X, y, test_size=0.2, stratify=y, random_state=42)"
      ],
      "metadata": {
        "id": "B4WgiY28K0kU",
        "colab": {
          "base_uri": "https://localhost:8080/"
        },
        "outputId": "202112c3-2e2d-402c-8743-21540cc72537"
      },
      "execution_count": 10,
      "outputs": [
        {
          "output_type": "stream",
          "name": "stdout",
          "text": [
            "Distribución de clases antes del undersampling:\n",
            "overall\n",
            "5.0    6902\n",
            "4.0    1704\n",
            "3.0     624\n",
            "1.0     389\n",
            "2.0     376\n",
            "Name: count, dtype: int64\n",
            "Distribución de clases después del undersampling:\n",
            "sentiment\n",
            "1    1389\n",
            "0    1389\n",
            "Name: count, dtype: int64\n"
          ]
        }
      ]
    },
    {
      "cell_type": "markdown",
      "source": [
        "**2. Codificación de textos con TF-IDF (Bag-of-Words)**\n",
        "\n",
        "En esta sección, convierte el texto preprocesado en una representación numérica utilizando TF-IDF\n",
        "\n",
        "Justificación de los parámetros del vectorizador\n",
        "\n",
        "max_features=5000 → Limitar el vocabulario a las 5000 palabras más frecuentes para reducir la dimensionalidad y mejorar la eficiencia.\n",
        "\n",
        "ngram_range=(1,2) → Incluir unigramas y bigramas para capturar mejor el contexto de las palabras.\n",
        "\n",
        "stop_words='english' → Eliminar palabras irrelevantes para reducir ruido en el modelo."
      ],
      "metadata": {
        "id": "0HXsNpPdLANE"
      }
    },
    {
      "cell_type": "code",
      "source": [
        "# Vectorización con TF-IDF\n",
        "vectorizer = TfidfVectorizer(max_features=5000, ngram_range=(1,2), stop_words='english')\n",
        "X_train_tfidf = vectorizer.fit_transform(X_train)\n",
        "X_test_tfidf = vectorizer.transform(X_test)\n",
        "\n",
        "# Guardar el vectorizador para uso futuro\n",
        "with open(\"tfidf_vectorizer.pkl\", \"wb\") as f:\n",
        "    pickle.dump(vectorizer, f)\n",
        "\n",
        "print(f\"Dimensión de la matriz TF-IDF después del balanceo: {X_train_tfidf.shape}\")"
      ],
      "metadata": {
        "id": "4Y4SgiurLYoW",
        "colab": {
          "base_uri": "https://localhost:8080/"
        },
        "outputId": "4da395a0-219a-4ce0-bbca-51562d1db67e"
      },
      "execution_count": 11,
      "outputs": [
        {
          "output_type": "stream",
          "name": "stdout",
          "text": [
            "Dimensión de la matriz TF-IDF después del balanceo: (2222, 5000)\n"
          ]
        }
      ]
    },
    {
      "cell_type": "markdown",
      "source": [
        "**3. Entrenamiento de Modelos**\n",
        "\n",
        "Elegimos dos modelos diferentes:\n",
        "\n",
        "Regresión Logística\n",
        "\n",
        "Random Forest"
      ],
      "metadata": {
        "id": "pYldmjs2LqLR"
      }
    },
    {
      "cell_type": "code",
      "source": [
        "# Entrenar el modelo de Regresión Logística\n",
        "log_model = LogisticRegression(random_state=42, max_iter=500)\n",
        "log_model.fit(X_train_tfidf, y_train)\n",
        "\n",
        "# Entrenar el modelo de Random Forest\n",
        "rf_model = RandomForestClassifier(n_estimators=100, random_state=42)\n",
        "rf_model.fit(X_train_tfidf, y_train)\n",
        "\n",
        "# Guardar los modelos entrenados\n",
        "with open(\"logistic_model.pkl\", \"wb\") as f:\n",
        "    pickle.dump(log_model, f)\n",
        "\n",
        "with open(\"random_forest_model.pkl\", \"wb\") as f:\n",
        "    pickle.dump(rf_model, f)\n",
        "\n",
        "print(\"Modelos entrenados y guardados: 'logistic_model.pkl' y 'random_forest_model.pkl'\")\n"
      ],
      "metadata": {
        "id": "cU7A-FVKLuBA",
        "colab": {
          "base_uri": "https://localhost:8080/"
        },
        "outputId": "69439468-27fe-4017-8994-8a3e87d33a2c"
      },
      "execution_count": 12,
      "outputs": [
        {
          "output_type": "stream",
          "name": "stdout",
          "text": [
            "Modelos entrenados y guardados: 'logistic_model.pkl' y 'random_forest_model.pkl'\n"
          ]
        }
      ]
    },
    {
      "cell_type": "markdown",
      "source": [
        "**4. Evaluación y comparación de los modelos**\n",
        "\n",
        "Ahora probamos los modelos en el conjunto de test."
      ],
      "metadata": {
        "id": "bc7tMxkHL1k6"
      }
    },
    {
      "cell_type": "code",
      "source": [
        "# Evaluar el modelo de Regresión Logística\n",
        "y_pred_log = log_model.predict(X_test_tfidf)\n",
        "print(\"Evaluación de Regresión Logística:\")\n",
        "print(classification_report(y_test, y_pred_log))\n",
        "\n",
        "# Evaluar el modelo de Random Forest\n",
        "y_pred_rf = rf_model.predict(X_test_tfidf)\n",
        "print(\"Evaluación de Random Forest:\")\n",
        "print(classification_report(y_test, y_pred_rf))\n",
        "\n",
        "# Matriz de confusión para Regresión Logística\n",
        "plt.figure(figsize=(5, 4))\n",
        "sns.heatmap(confusion_matrix(y_test, y_pred_log), annot=True, fmt=\"d\", cmap=\"Blues\")\n",
        "plt.title(\"Matriz de Confusión - Regresión Logística\")\n",
        "plt.xlabel(\"Predicción\")\n",
        "plt.ylabel(\"Real\")\n",
        "plt.show()\n",
        "\n",
        "# Matriz de confusión para Random Forest\n",
        "plt.figure(figsize=(5, 4))\n",
        "sns.heatmap(confusion_matrix(y_test, y_pred_rf), annot=True, fmt=\"d\", cmap=\"Greens\")\n",
        "plt.title(\"Matriz de Confusión - Random Forest\")\n",
        "plt.xlabel(\"Predicción\")\n",
        "plt.ylabel(\"Real\")\n",
        "plt.show()\n",
        "\n",
        "# Exactitud de los modelos\n",
        "accuracy_log = accuracy_score(y_test, y_pred_log)\n",
        "accuracy_rf = accuracy_score(y_test, y_pred_rf)\n",
        "\n",
        "print(f\"Precisión (Accuracy) de Regresión Logística: {accuracy_log:.4f}\")\n",
        "print(f\"Precisión (Accuracy) de Random Forest: {accuracy_rf:.4f}\")\n"
      ],
      "metadata": {
        "id": "-awk6sDtL48E",
        "colab": {
          "base_uri": "https://localhost:8080/",
          "height": 1000
        },
        "outputId": "e03461f8-e9f7-46cd-aa51-c3123e975181"
      },
      "execution_count": 13,
      "outputs": [
        {
          "output_type": "stream",
          "name": "stdout",
          "text": [
            "Evaluación de Regresión Logística:\n",
            "              precision    recall  f1-score   support\n",
            "\n",
            "           0       0.73      0.78      0.75       278\n",
            "           1       0.76      0.71      0.74       278\n",
            "\n",
            "    accuracy                           0.74       556\n",
            "   macro avg       0.75      0.74      0.74       556\n",
            "weighted avg       0.75      0.74      0.74       556\n",
            "\n",
            "Evaluación de Random Forest:\n",
            "              precision    recall  f1-score   support\n",
            "\n",
            "           0       0.73      0.80      0.77       278\n",
            "           1       0.78      0.71      0.74       278\n",
            "\n",
            "    accuracy                           0.75       556\n",
            "   macro avg       0.76      0.75      0.75       556\n",
            "weighted avg       0.76      0.75      0.75       556\n",
            "\n"
          ]
        },
        {
          "output_type": "display_data",
          "data": {
            "text/plain": [
              "<Figure size 500x400 with 2 Axes>"
            ],
            "image/png": "[encoded data removed]"
          },
          "metadata": {}
        },
        {
          "output_type": "display_data",
          "data": {
            "text/plain": [
              "<Figure size 500x400 with 2 Axes>"
            ],
            "image/png": "[encoded data removed]"
          },
          "metadata": {}
        },
        {
          "output_type": "stream",
          "name": "stdout",
          "text": [
            "Precisión (Accuracy) de Regresión Logística: 0.7446\n",
            "Precisión (Accuracy) de Random Forest: 0.7536\n"
          ]
        }
      ]
    },
    {
      "cell_type": "markdown",
      "source": [
        "**Interpretación del resultado tras aplicar undersampling**\n",
        "\n",
        "Después de aplicar undersampling, observamos que la distribución de clases ahora es equilibrada, lo que permite evaluar mejor el rendimiento de los modelos en ambas clases.\n",
        "\n",
        "Análisis de los modelos\n",
        "\n",
        "**Regresión Logística**\n",
        "\n",
        "Clase 0 (negativas): 73%\n",
        "\n",
        "Clase 1 (positivas): 76%\n",
        "\n",
        "Recall\n",
        "\n",
        "Clase 0: 78% → Es capaz de identificar correctamente la mayoría de las negativas.\n",
        "\n",
        "Clase 1: 71% → Algo más baja, lo que indica que algunas reseñas positivas se etiquetan como negativas.\n",
        "\n",
        "F1-score (equilibrio entre precisión y recall)\n",
        "\n",
        "Ambas clases tienen un f1-score cercano a 0.74-0.75, lo que indica una buena consistencia.\n",
        "\n",
        "Accuracy global: 74%\n",
        "\n",
        "Conclusión: La regresión logística tiene un buen balance, con un ligero sesgo hacia las negativas (mejor recall en clase 0).\n",
        "\n",
        "**Random Forest**\n",
        "\n",
        "Clase 0: 73%\n",
        "Clase 1: 78%\n",
        "\n",
        "Recall\n",
        "\n",
        "Clase 0: 80% → Detecta mejor los negativos.\n",
        "\n",
        "Clase 1: 71% → Algo más baja, pierde algunas predicciones positivas.\n",
        "\n",
        "F1-score: Ambas clases tienen un f1-score de 0.74-0.75, similar al de regresión logística.\n",
        "\n",
        "Accuracy global: 75%\n",
        "\n",
        "Conclusión:\n",
        "\n",
        "Random Forest tiene mejor recall en clase 0 (negativas), lo que indica que predice mejor las críticas negativas.\n",
        "\n",
        "Tiene una precisión ligeramente mejor en la clase positiva que la regresión logística.\n",
        "Es un modelo más estable, con una accuracy del 75%.\n",
        "\n",
        "Conclusión general:\n",
        "\n",
        "Ambos modelos tienen rendimiento similar.\n",
        "Random Forest tiene un mejor recall en clase 0 (negativas), por lo que es más robusto si queremos detectar reseñas negativas.\n",
        "Regresión Logística es más estable y rápida, pero ligeramente menos precisa en positivos.\n"
      ],
      "metadata": {
        "id": "M9tTFd1tOxy3"
      }
    },
    {
      "cell_type": "markdown",
      "source": [
        "**Matriz de Confusión - Regresión Logística**\n",
        "\n",
        "Valores en la matriz:\n",
        "\n",
        "Verdaderos negativos (TN): 217 → Casos correctamente clasificados como negativos (0).\n",
        "\n",
        "Falsos positivos (FP): 61 → Casos negativos que el modelo predijo erróneamente como positivos.\n",
        "\n",
        "Falsos negativos (FN): 81 → Casos positivos que el modelo clasificó erróneamente como negativos.\n",
        "\n",
        "Verdaderos positivos (TP): 197 → Casos correctamente clasificados como positivos (1).\n",
        "\n",
        "Precisión del modelo: 74.46%\n",
        "\n",
        "Es decir, el modelo clasifica correctamente 74.46% de los casos.\n",
        "Hay una cantidad considerable de falsos negativos (81 casos), lo que indica que puede estar perdiendo algunos casos positivos.\n",
        "\n",
        "**Matriz de Confusión - Random Forest**\n",
        "\n",
        "Valores en la matriz:\n",
        "\n",
        "Verdaderos negativos (TN): 223 → Casos correctamente clasificados como negativos.\n",
        "\n",
        "Falsos positivos (FP): 55 → Casos negativos clasificados erróneamente como positivos.\n",
        "\n",
        "Falsos negativos (FN): 82 → Casos positivos clasificados erróneamente como negativos.\n",
        "\n",
        "Verdaderos positivos (TP): 196 → Casos correctamente clasificados como positivos.\n",
        "\n",
        "Precisión del modelo: 75.36%\n",
        "\n",
        "El modelo de Random Forest tiene una precisión ligeramente superior (75.36%) en comparación con la Regresión Logística (74.46%).\n",
        "También presenta menos falsos positivos (55 vs. 61 en Regresión Logística), lo que indica que hace menos errores clasificando negativos como positivos.\n"
      ],
      "metadata": {
        "id": "nhnEVewvRvuF"
      }
    }
  ]
}